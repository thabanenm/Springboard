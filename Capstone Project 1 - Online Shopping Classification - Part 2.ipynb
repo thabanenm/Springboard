{
 "cells": [
  {
   "cell_type": "markdown",
   "metadata": {},
   "source": [
    "# Hypothesis Testing"
   ]
  },
  {
   "cell_type": "markdown",
   "metadata": {},
   "source": [
    "Performing a hypothesis check is a way to verify information about any parameter. In this method, we use two different hypotheses i.e. H0, referred to as the null hypothesis and alternate hypothesis which is the opposite as our null hypothesis. Our main objective is to verify whether our null hypothesis is true or false based on the data. We try to change the null hypothesis in such a way that the resulting null hypothesis is true"
   ]
  },
  {
   "cell_type": "code",
   "execution_count": 1,
   "metadata": {},
   "outputs": [
    {
     "data": {
      "text/html": [
       "<div>\n",
       "<style scoped>\n",
       "    .dataframe tbody tr th:only-of-type {\n",
       "        vertical-align: middle;\n",
       "    }\n",
       "\n",
       "    .dataframe tbody tr th {\n",
       "        vertical-align: top;\n",
       "    }\n",
       "\n",
       "    .dataframe thead th {\n",
       "        text-align: right;\n",
       "    }\n",
       "</style>\n",
       "<table border=\"1\" class=\"dataframe\">\n",
       "  <thead>\n",
       "    <tr style=\"text-align: right;\">\n",
       "      <th></th>\n",
       "      <th>Administrative</th>\n",
       "      <th>Administrative_Duration</th>\n",
       "      <th>Informational</th>\n",
       "      <th>Informational_Duration</th>\n",
       "      <th>ProductRelated</th>\n",
       "      <th>ProductRelated_Duration</th>\n",
       "      <th>BounceRates</th>\n",
       "      <th>ExitRates</th>\n",
       "      <th>PageValues</th>\n",
       "      <th>SpecialDay</th>\n",
       "      <th>Month</th>\n",
       "      <th>OperatingSystems</th>\n",
       "      <th>Browser</th>\n",
       "      <th>Region</th>\n",
       "      <th>TrafficType</th>\n",
       "      <th>VisitorType</th>\n",
       "      <th>Weekend</th>\n",
       "      <th>Revenue</th>\n",
       "    </tr>\n",
       "  </thead>\n",
       "  <tbody>\n",
       "    <tr>\n",
       "      <td>0</td>\n",
       "      <td>0</td>\n",
       "      <td>0.0</td>\n",
       "      <td>0</td>\n",
       "      <td>0.0</td>\n",
       "      <td>1</td>\n",
       "      <td>0.000000</td>\n",
       "      <td>0.20</td>\n",
       "      <td>0.20</td>\n",
       "      <td>0.0</td>\n",
       "      <td>0.0</td>\n",
       "      <td>Feb</td>\n",
       "      <td>1</td>\n",
       "      <td>1</td>\n",
       "      <td>1</td>\n",
       "      <td>1</td>\n",
       "      <td>Returning_Visitor</td>\n",
       "      <td>False</td>\n",
       "      <td>False</td>\n",
       "    </tr>\n",
       "    <tr>\n",
       "      <td>1</td>\n",
       "      <td>0</td>\n",
       "      <td>0.0</td>\n",
       "      <td>0</td>\n",
       "      <td>0.0</td>\n",
       "      <td>2</td>\n",
       "      <td>64.000000</td>\n",
       "      <td>0.00</td>\n",
       "      <td>0.10</td>\n",
       "      <td>0.0</td>\n",
       "      <td>0.0</td>\n",
       "      <td>Feb</td>\n",
       "      <td>2</td>\n",
       "      <td>2</td>\n",
       "      <td>1</td>\n",
       "      <td>2</td>\n",
       "      <td>Returning_Visitor</td>\n",
       "      <td>False</td>\n",
       "      <td>False</td>\n",
       "    </tr>\n",
       "    <tr>\n",
       "      <td>2</td>\n",
       "      <td>0</td>\n",
       "      <td>0.0</td>\n",
       "      <td>0</td>\n",
       "      <td>0.0</td>\n",
       "      <td>1</td>\n",
       "      <td>0.000000</td>\n",
       "      <td>0.20</td>\n",
       "      <td>0.20</td>\n",
       "      <td>0.0</td>\n",
       "      <td>0.0</td>\n",
       "      <td>Feb</td>\n",
       "      <td>4</td>\n",
       "      <td>1</td>\n",
       "      <td>9</td>\n",
       "      <td>3</td>\n",
       "      <td>Returning_Visitor</td>\n",
       "      <td>False</td>\n",
       "      <td>False</td>\n",
       "    </tr>\n",
       "    <tr>\n",
       "      <td>3</td>\n",
       "      <td>0</td>\n",
       "      <td>0.0</td>\n",
       "      <td>0</td>\n",
       "      <td>0.0</td>\n",
       "      <td>2</td>\n",
       "      <td>2.666667</td>\n",
       "      <td>0.05</td>\n",
       "      <td>0.14</td>\n",
       "      <td>0.0</td>\n",
       "      <td>0.0</td>\n",
       "      <td>Feb</td>\n",
       "      <td>3</td>\n",
       "      <td>2</td>\n",
       "      <td>2</td>\n",
       "      <td>4</td>\n",
       "      <td>Returning_Visitor</td>\n",
       "      <td>False</td>\n",
       "      <td>False</td>\n",
       "    </tr>\n",
       "    <tr>\n",
       "      <td>4</td>\n",
       "      <td>0</td>\n",
       "      <td>0.0</td>\n",
       "      <td>0</td>\n",
       "      <td>0.0</td>\n",
       "      <td>10</td>\n",
       "      <td>627.500000</td>\n",
       "      <td>0.02</td>\n",
       "      <td>0.05</td>\n",
       "      <td>0.0</td>\n",
       "      <td>0.0</td>\n",
       "      <td>Feb</td>\n",
       "      <td>3</td>\n",
       "      <td>3</td>\n",
       "      <td>1</td>\n",
       "      <td>4</td>\n",
       "      <td>Returning_Visitor</td>\n",
       "      <td>True</td>\n",
       "      <td>False</td>\n",
       "    </tr>\n",
       "  </tbody>\n",
       "</table>\n",
       "</div>"
      ],
      "text/plain": [
       "   Administrative  Administrative_Duration  Informational  \\\n",
       "0               0                      0.0              0   \n",
       "1               0                      0.0              0   \n",
       "2               0                      0.0              0   \n",
       "3               0                      0.0              0   \n",
       "4               0                      0.0              0   \n",
       "\n",
       "   Informational_Duration  ProductRelated  ProductRelated_Duration  \\\n",
       "0                     0.0               1                 0.000000   \n",
       "1                     0.0               2                64.000000   \n",
       "2                     0.0               1                 0.000000   \n",
       "3                     0.0               2                 2.666667   \n",
       "4                     0.0              10               627.500000   \n",
       "\n",
       "   BounceRates  ExitRates  PageValues  SpecialDay Month  OperatingSystems  \\\n",
       "0         0.20       0.20         0.0         0.0   Feb                 1   \n",
       "1         0.00       0.10         0.0         0.0   Feb                 2   \n",
       "2         0.20       0.20         0.0         0.0   Feb                 4   \n",
       "3         0.05       0.14         0.0         0.0   Feb                 3   \n",
       "4         0.02       0.05         0.0         0.0   Feb                 3   \n",
       "\n",
       "   Browser  Region  TrafficType        VisitorType  Weekend  Revenue  \n",
       "0        1       1            1  Returning_Visitor    False    False  \n",
       "1        2       1            2  Returning_Visitor    False    False  \n",
       "2        1       9            3  Returning_Visitor    False    False  \n",
       "3        2       2            4  Returning_Visitor    False    False  \n",
       "4        3       1            4  Returning_Visitor     True    False  "
      ]
     },
     "execution_count": 1,
     "metadata": {},
     "output_type": "execute_result"
    }
   ],
   "source": [
    "import pandas as pd\n",
    "import numpy as np\n",
    "import matplotlib.pyplot as plt\n",
    "import seaborn as sns\n",
    "from scipy import stats\n",
    "from random import sample\n",
    "data = pd.read_csv('C:/Users/michael.thabane/Documents/Springboard/Capstone1/online_shoppers_intention.csv')\n",
    "Purchase = data[data.Revenue == True]\n",
    "Browse = data[data.Revenue == False]\n",
    "data.head()"
   ]
  },
  {
   "cell_type": "markdown",
   "metadata": {},
   "source": [
    "#### Hypothesis Testing for Categorical Variables"
   ]
  },
  {
   "cell_type": "code",
   "execution_count": 2,
   "metadata": {},
   "outputs": [
    {
     "name": "stdout",
     "output_type": "stream",
     "text": [
      "Revenue  False  True \n",
      "Weekend              \n",
      "False     8053   1409\n",
      "True      2369    499\n"
     ]
    }
   ],
   "source": [
    "data_crosstabs = pd.crosstab(data['Weekend'],data['Revenue'])\n",
    "print(data_crosstabs)"
   ]
  },
  {
   "cell_type": "code",
   "execution_count": 3,
   "metadata": {},
   "outputs": [
    {
     "name": "stdout",
     "output_type": "stream",
     "text": [
      "Degress of Freedom = 1\n",
      "p value = 0\n",
      "Test Statistics = 10\n",
      "Critical Value = 3\n"
     ]
    }
   ],
   "source": [
    "# perform chi-square hypothesis test\n",
    "stat, p, dof, expected = stats.chi2_contingency(data_crosstabs)\n",
    "critical = stats.chi2.ppf(0.95,dof)\n",
    "print('Degress of Freedom = %d' % dof)\n",
    "print('p value = %d' % p)\n",
    "print('Test Statistics = %d' % stat)\n",
    "print('Critical Value = %d' % critical)"
   ]
  },
  {
   "cell_type": "code",
   "execution_count": 4,
   "metadata": {},
   "outputs": [],
   "source": [
    "visitor_type = {'Returning_Visitor' : 'Returning_Visitor', 'Other' : 'Other', 'New_Visitor' : 'Other'}\n",
    "data['VisitorType2'] = data['VisitorType'].map(visitor_type)"
   ]
  },
  {
   "cell_type": "code",
   "execution_count": 5,
   "metadata": {},
   "outputs": [
    {
     "name": "stdout",
     "output_type": "stream",
     "text": [
      "Revenue            False  True \n",
      "VisitorType2                   \n",
      "Other               1341    438\n",
      "Returning_Visitor   9081   1470\n"
     ]
    }
   ],
   "source": [
    "data_crosstabs2 = pd.crosstab(data['VisitorType2'],data['Revenue'])\n",
    "print(data_crosstabs2)"
   ]
  },
  {
   "cell_type": "code",
   "execution_count": 6,
   "metadata": {},
   "outputs": [
    {
     "name": "stdout",
     "output_type": "stream",
     "text": [
      "Degress of Freedom = 1\n",
      "p value = 0\n",
      "Test Statistic = 132\n",
      "Critical Value = 3\n"
     ]
    }
   ],
   "source": [
    "# perform chi-square hypothesis test\n",
    "stat, p, dof, expected = stats.chi2_contingency(data_crosstabs2)\n",
    "critical = stats.chi2.ppf(0.95,dof)\n",
    "print('Degress of Freedom = %d' % dof)\n",
    "print('p value = %d' % p)\n",
    "print('Test Statistic = %d' % stat)\n",
    "print('Critical Value = %d' % critical)"
   ]
  },
  {
   "cell_type": "code",
   "execution_count": 7,
   "metadata": {},
   "outputs": [],
   "source": [
    "Special_Day = {0.0 : 'Special Day', 0.2 : 'Regular Day', 0.4 : 'Regular Day', 0.6 : 'Regular Day', 0.8 : 'Regular Day',\n",
    "              1.0 : 'Regular Day'}\n",
    "data['SpecialDay2'] = data['SpecialDay'].map(Special_Day)"
   ]
  },
  {
   "cell_type": "code",
   "execution_count": 8,
   "metadata": {},
   "outputs": [
    {
     "name": "stdout",
     "output_type": "stream",
     "text": [
      "Revenue      False  True \n",
      "SpecialDay2              \n",
      "Regular Day   1174     77\n",
      "Special Day   9248   1831\n"
     ]
    }
   ],
   "source": [
    "data_crosstabs3 = pd.crosstab(data['SpecialDay2'],data['Revenue'])\n",
    "print(data_crosstabs3)"
   ]
  },
  {
   "cell_type": "code",
   "execution_count": 9,
   "metadata": {},
   "outputs": [
    {
     "name": "stdout",
     "output_type": "stream",
     "text": [
      "Degress of Freedom = 1\n",
      "p value = 0\n",
      "Test Statistic = 91\n",
      "Critical Value = 3\n"
     ]
    }
   ],
   "source": [
    "# perform chi-square hypothesis test\n",
    "stat, p, dof, expected = stats.chi2_contingency(data_crosstabs3)\n",
    "critical = stats.chi2.ppf(0.95,dof)\n",
    "print('Degress of Freedom = %d' % dof)\n",
    "print('p value = %d' % p)\n",
    "print('Test Statistic = %d' % stat)\n",
    "print('Critical Value = %d' % critical)"
   ]
  },
  {
   "cell_type": "markdown",
   "metadata": {},
   "source": [
    "#### Hypothesis Testing for Continuous Variable"
   ]
  },
  {
   "cell_type": "markdown",
   "metadata": {},
   "source": [
    "Create Random Samples from the subset of Browsing Customers with the same size as the subset of Purchasing Customers"
   ]
  },
  {
   "cell_type": "code",
   "execution_count": 10,
   "metadata": {},
   "outputs": [],
   "source": [
    "rs_browse_1 = np.random.choice(Browse['Informational_Duration'],len(Purchase), replace=False)\n",
    "rs_browse_2 = np.random.choice(Browse['Informational_Duration'],len(Purchase), replace=False)\n",
    "rs_browse_3 = np.random.choice(Browse['Informational_Duration'],len(Purchase), replace=False)\n",
    "rs_browse_4 = np.random.choice(Browse['Informational_Duration'],len(Purchase), replace=False)\n",
    "rs_browse_5 = np.random.choice(Browse['Informational_Duration'],len(Purchase), replace=False)"
   ]
  },
  {
   "cell_type": "code",
   "execution_count": 11,
   "metadata": {},
   "outputs": [
    {
     "name": "stdout",
     "output_type": "stream",
     "text": [
      "Degress of Freedom = 12329\n",
      "p value = 0\n",
      "Test Statistic = -6\n",
      "Critical Value = 1\n"
     ]
    }
   ],
   "source": [
    "# perform t-test on informational duration between buyers and browsers sample 1\n",
    "stat, p = stats.ttest_ind(rs_browse_1, Purchase['Informational_Duration'])\n",
    "dof = data.count()[0] - 1\n",
    "critical = stats.t.ppf(0.95,dof)\n",
    "print('Degress of Freedom = %d' % dof)\n",
    "print('p value = %d' % p)\n",
    "print('Test Statistic = %d' % stat)\n",
    "print('Critical Value = %d' % critical)"
   ]
  },
  {
   "cell_type": "code",
   "execution_count": 12,
   "metadata": {},
   "outputs": [
    {
     "name": "stdout",
     "output_type": "stream",
     "text": [
      "Degress of Freedom = 12329\n",
      "p value = 0\n",
      "Test Statistic = -6\n",
      "Critical Value = 1\n"
     ]
    }
   ],
   "source": [
    "# perform t-test on informational duration between buyers and browsers sample 2\n",
    "stat, p = stats.ttest_ind(rs_browse_2, Purchase['Informational_Duration'])\n",
    "dof = data.count()[0] - 1\n",
    "critical = stats.t.ppf(0.95,dof)\n",
    "print('Degress of Freedom = %d' % dof)\n",
    "print('p value = %d' % p)\n",
    "print('Test Statistic = %d' % stat)\n",
    "print('Critical Value = %d' % critical)"
   ]
  },
  {
   "cell_type": "code",
   "execution_count": 13,
   "metadata": {},
   "outputs": [
    {
     "name": "stdout",
     "output_type": "stream",
     "text": [
      "Degress of Freedom = 12329\n",
      "p value = 0\n",
      "Test Statistic = -5\n",
      "Critical Value = 1\n"
     ]
    }
   ],
   "source": [
    "# perform t-test on informational duration between buyers and browsers sample 3\n",
    "stat, p = stats.ttest_ind(rs_browse_3, Purchase['Informational_Duration'])\n",
    "dof = data.count()[0] - 1\n",
    "critical = stats.t.ppf(0.95,dof)\n",
    "print('Degress of Freedom = %d' % dof)\n",
    "print('p value = %d' % p)\n",
    "print('Test Statistic = %d' % stat)\n",
    "print('Critical Value = %d' % critical)"
   ]
  },
  {
   "cell_type": "code",
   "execution_count": 14,
   "metadata": {},
   "outputs": [
    {
     "name": "stdout",
     "output_type": "stream",
     "text": [
      "Degress of Freedom = 12329\n",
      "p value = 0\n",
      "Test Statistic = -4\n",
      "Critical Value = 1\n"
     ]
    }
   ],
   "source": [
    "# perform t-test on informational duration between buyers and browsers sample 4\n",
    "stat, p = stats.ttest_ind(rs_browse_4, Purchase['Informational_Duration'])\n",
    "dof = data.count()[0] - 1\n",
    "critical = stats.t.ppf(0.95,dof)\n",
    "print('Degress of Freedom = %d' % dof)\n",
    "print('p value = %d' % p)\n",
    "print('Test Statistic = %d' % stat)\n",
    "print('Critical Value = %d' % critical)"
   ]
  },
  {
   "cell_type": "code",
   "execution_count": 15,
   "metadata": {},
   "outputs": [
    {
     "name": "stdout",
     "output_type": "stream",
     "text": [
      "Degress of Freedom = 12329\n",
      "p value = 0\n",
      "Test Statistic = -7\n",
      "Critical Value = 1\n"
     ]
    }
   ],
   "source": [
    "# perform t-test on informational duration between buyers and browsers sample 5\n",
    "stat, p = stats.ttest_ind(rs_browse_5, Purchase['Informational_Duration'])\n",
    "dof = data.count()[0] - 1\n",
    "critical = stats.t.ppf(0.95,dof)\n",
    "print('Degress of Freedom = %d' % dof)\n",
    "print('p value = %d' % p)\n",
    "print('Test Statistic = %d' % stat)\n",
    "print('Critical Value = %d' % critical)"
   ]
  },
  {
   "cell_type": "markdown",
   "metadata": {},
   "source": [
    "Since all of the t-test show there is a significant difference between the Informational Duration of the Purchasing Customer group and Informational Duration of the Browsing Customer group we conclude the null hypothesis (The information duration of the Purcahsing group is not the same as the Browsing group) is true "
   ]
  }
 ],
 "metadata": {
  "kernelspec": {
   "display_name": "Python 3",
   "language": "python",
   "name": "python3"
  },
  "language_info": {
   "codemirror_mode": {
    "name": "ipython",
    "version": 3
   },
   "file_extension": ".py",
   "mimetype": "text/x-python",
   "name": "python",
   "nbconvert_exporter": "python",
   "pygments_lexer": "ipython3",
   "version": "3.7.4"
  }
 },
 "nbformat": 4,
 "nbformat_minor": 2
}
