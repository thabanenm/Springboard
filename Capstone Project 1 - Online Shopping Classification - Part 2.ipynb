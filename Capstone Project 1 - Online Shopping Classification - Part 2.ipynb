{
 "cells": [
  {
   "cell_type": "code",
   "execution_count": 5,
   "metadata": {},
   "outputs": [],
   "source": [
    "import pandas as pd\n",
    "import numpy as np\n",
    "import matplotlib.pyplot as plt\n",
    "import seaborn as sns\n",
    "from scipy import stats\n",
    "data = pd.read_csv('C:/Users/michael.thabane/Documents/Springboard/Capstone1/online_shoppers_intention.csv')\n",
    "data.head()\n",
    "Purchase = data[data.Revenue == True]\n",
    "Browse = data[data.Revenue == False]"
   ]
  },
  {
   "cell_type": "code",
   "execution_count": 6,
   "metadata": {},
   "outputs": [
    {
     "name": "stdout",
     "output_type": "stream",
     "text": [
      "Revenue  False  True \n",
      "Weekend              \n",
      "False     8053   1409\n",
      "True      2369    499\n"
     ]
    }
   ],
   "source": [
    "data_crosstabs = pd.crosstab(data['Weekend'],data['Revenue'])\n",
    "print(data_crosstabs)"
   ]
  },
  {
   "cell_type": "code",
   "execution_count": 15,
   "metadata": {},
   "outputs": [
    {
     "name": "stdout",
     "output_type": "stream",
     "text": [
      "Degress of Freedom = 1\n",
      "p value = 0\n",
      "Test Statistics = 10\n",
      "Critical Value = 3\n"
     ]
    }
   ],
   "source": [
    "# perform chi-square hypothesis test\n",
    "stat, p, dof, expected = stats.chi2_contingency(data_crosstabs)\n",
    "critical = stats.chi2.ppf(0.95,dof)\n",
    "print('Degress of Freedom = %d' % dof)\n",
    "print('p value = %d' % p)\n",
    "print('Test Statistics = %d' % stat)\n",
    "print('Critical Value = %d' % critical)"
   ]
  },
  {
   "cell_type": "code",
   "execution_count": null,
   "metadata": {},
   "outputs": [],
   "source": []
  },
  {
   "cell_type": "code",
   "execution_count": null,
   "metadata": {},
   "outputs": [],
   "source": []
  }
 ],
 "metadata": {
  "kernelspec": {
   "display_name": "Python 3",
   "language": "python",
   "name": "python3"
  },
  "language_info": {
   "codemirror_mode": {
    "name": "ipython",
    "version": 3
   },
   "file_extension": ".py",
   "mimetype": "text/x-python",
   "name": "python",
   "nbconvert_exporter": "python",
   "pygments_lexer": "ipython3",
   "version": "3.7.4"
  }
 },
 "nbformat": 4,
 "nbformat_minor": 2
}
